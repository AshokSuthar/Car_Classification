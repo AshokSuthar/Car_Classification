{
 "cells": [
  {
   "cell_type": "code",
   "execution_count": null,
   "metadata": {},
   "outputs": [],
   "source": [
    "from scipy import io\n",
    "\n",
    "classes = io.loadmat('/home/ashok/Downloads/car_devkit/devkit/cars_meta.mat')\n",
    "len(classes['class_names'][0])"
   ]
  },
  {
   "cell_type": "code",
   "execution_count": null,
   "metadata": {},
   "outputs": [],
   "source": [
    "annotations = io.loadmat('/home/ashok/Downloads/car_devkit/devkit/cars_train_annos.mat')\n",
    "print(len(annotations['annotations'][0]))"
   ]
  },
  {
   "cell_type": "code",
   "execution_count": null,
   "metadata": {},
   "outputs": [],
   "source": [
    "from tensorflow import keras\n",
    "import tensorflow as tf\n",
    "import pandas as pd\n",
    "import numpy as np"
   ]
  },
  {
   "cell_type": "code",
   "execution_count": null,
   "metadata": {},
   "outputs": [],
   "source": [
    "# tf.config.gpu_options.allow_growth = True\n",
    "from tensorflow.compat.v1 import ConfigProto\n",
    "from tensorflow.compat.v1 import InteractiveSession\n",
    "\n",
    "config = ConfigProto()\n",
    "config.gpu_options.allow_growth = True\n",
    "session = InteractiveSession(config=config)"
   ]
  },
  {
   "cell_type": "code",
   "execution_count": null,
   "metadata": {},
   "outputs": [],
   "source": [
    "class_list = [data[0] for data in classes['class_names'][0]]\n",
    "print(len(class_list))\n",
    "class_list"
   ]
  },
  {
   "cell_type": "code",
   "execution_count": null,
   "metadata": {},
   "outputs": [],
   "source": [
    "f_names = [data[5] for data in annotations['annotations'][0]]\n",
    "f_names = np.squeeze(f_names)"
   ]
  },
  {
   "cell_type": "code",
   "execution_count": null,
   "metadata": {},
   "outputs": [],
   "source": [
    "c_ints = [data[4] for data in annotations['annotations'][0]]\n",
    "c_ints = np.squeeze(c_ints)"
   ]
  },
  {
   "cell_type": "markdown",
   "metadata": {},
   "source": [
    "## Create a List of Classes corresponding to c_ints"
   ]
  },
  {
   "cell_type": "code",
   "execution_count": null,
   "metadata": {},
   "outputs": [],
   "source": [
    "class_names = [class_list[index-1] for index in c_ints]\n",
    "print(len(class_names))"
   ]
  },
  {
   "cell_type": "code",
   "execution_count": null,
   "metadata": {},
   "outputs": [],
   "source": [
    "df = pd.DataFrame([f_names, class_names]).T\n",
    "df.columns = ['filename', 'class']\n",
    "df[:20]"
   ]
  },
  {
   "cell_type": "code",
   "execution_count": null,
   "metadata": {},
   "outputs": [],
   "source": [
    "from tensorflow.keras.preprocessing.image import ImageDataGenerator\n",
    "from tensorflow.keras.optimizers import Adam"
   ]
  },
  {
   "cell_type": "code",
   "execution_count": null,
   "metadata": {},
   "outputs": [],
   "source": [
    "datagen = ImageDataGenerator(\n",
    "    rotation_range=20,\n",
    "    zoom_range = 0.1,  \n",
    "    width_shift_range=0.1, \n",
    "    height_shift_range=0.1,\n",
    "    rescale=1./255,\n",
    "    validation_split=0.1)\n",
    "\n",
    "train_generator = datagen.flow_from_dataframe(\n",
    "    dataframe = df, \n",
    "    directory = \"/home/ashok/Downloads/cars_train\", \n",
    "    x_col = \"filename\", \n",
    "    y_col = \"class\", \n",
    "    class_mode = \"categorical\", \n",
    "    target_size = (256,256), \n",
    "    subset='training',\n",
    "    batch_size = 32)\n",
    "\n",
    "valid_generator = datagen.flow_from_dataframe(\n",
    "    dataframe = df, \n",
    "    directory = \"/home/ashok/Downloads/cars_train\", \n",
    "    x_col = \"filename\", \n",
    "    y_col = \"class\", \n",
    "    class_mode = \"categorical\", \n",
    "    target_size = (256,256), \n",
    "    subset='validation',\n",
    "    batch_size = 32)"
   ]
  },
  {
   "cell_type": "code",
   "execution_count": null,
   "metadata": {},
   "outputs": [],
   "source": [
    "model = keras.Sequential([\n",
    "    keras.layers.Conv2D(input_shape =(256,256,3), filters=16, kernel_size=(3,3), activation = 'relu',\n",
    "                        strides=(1,1), data_format = \"channels_last\",),\n",
    "    \n",
    "    keras.layers.Conv2D(filters=32, kernel_size=(3,3), activation = 'relu',\n",
    "                        strides=(1,1), data_format = \"channels_last\"),\n",
    "    keras.layers.Dropout(0.2),\n",
    "    keras.layers.BatchNormalization(),\n",
    "    \n",
    "    keras.layers.Conv2D(filters=32, kernel_size=(3,3), activation = 'relu',\n",
    "                        strides=(1,1), data_format = \"channels_last\"),\n",
    "    keras.layers.Dropout(0.2),\n",
    "    keras.layers.BatchNormalization(),\n",
    "    \n",
    "    keras.layers.Conv2D(filters=32, kernel_size=(3,3), activation = 'relu',\n",
    "                        strides=(1,1), data_format = \"channels_last\"),\n",
    "    keras.layers.MaxPool2D(2,2),\n",
    "    keras.layers.BatchNormalization(),\n",
    "    \n",
    "    keras.layers.Conv2D(filters=64, kernel_size=(3,3), activation = 'relu',\n",
    "                        strides=(1,1), data_format = \"channels_last\"),\n",
    "    keras.layers.Dropout(0.4),\n",
    "    keras.layers.BatchNormalization(),\n",
    "    \n",
    "    keras.layers.Conv2D(filters=64, kernel_size=(3,3), activation = 'relu',\n",
    "                        strides=(1,1), data_format = \"channels_last\"),\n",
    "    keras.layers.Dropout(0.4),\n",
    "    keras.layers.BatchNormalization(),\n",
    "    \n",
    "    keras.layers.Conv2D(filters=64, kernel_size=(3,3), activation = 'relu',\n",
    "                        strides=(1,1), data_format = \"channels_last\"),\n",
    "    keras.layers.MaxPool2D(2,2),\n",
    "    keras.layers.Dropout(0.4),\n",
    "    \n",
    "    keras.layers.Conv2D(filters=128, kernel_size=(3,3), activation = 'relu',\n",
    "                        strides=(1,1), data_format = \"channels_last\"),\n",
    "    keras.layers.Dropout(0.4),\n",
    "    keras.layers.BatchNormalization(),\n",
    "    \n",
    "    keras.layers.Conv2D(filters=128, kernel_size=(3,3), activation = 'relu',\n",
    "                        strides=(1,1), data_format = \"channels_last\"),\n",
    "    keras.layers.Dropout(0.5),\n",
    "    keras.layers.BatchNormalization(),\n",
    "    \n",
    "    keras.layers.Conv2D(filters=128, kernel_size=(3,3), activation = 'relu',\n",
    "                        strides=(1,1), data_format = \"channels_last\"),\n",
    "    keras.layers.Dropout(0.5),\n",
    "    keras.layers.BatchNormalization(),\n",
    "    \n",
    "    keras.layers.Conv2D(filters=128, kernel_size=(3,3), activation = 'relu',\n",
    "                        strides=(1,1), data_format = \"channels_last\"),\n",
    "    keras.layers.Dropout(0.5),\n",
    "    keras.layers.MaxPool2D(2,2),\n",
    "    keras.layers.BatchNormalization(),\n",
    "    \n",
    "    keras.layers.Conv2D(filters=256, kernel_size=(3,3), activation = 'relu',\n",
    "                        strides=(1,1), data_format = \"channels_last\"),\n",
    "    keras.layers.Dropout(0.5),\n",
    "    keras.layers.BatchNormalization(),\n",
    "    \n",
    "    keras.layers.Conv2D(filters=256, kernel_size=(3,3), activation = 'relu',\n",
    "                        strides=(1,1), data_format = \"channels_last\"),\n",
    "    keras.layers.Dropout(0.5),\n",
    "    keras.layers.MaxPool2D(2,2),\n",
    "    keras.layers.BatchNormalization(),\n",
    "    \n",
    "    keras.layers.Flatten(),\n",
    "    \n",
    "    keras.layers.Dense(256, activation = 'relu'),\n",
    "    keras.layers.Dense(196, activation=\"softmax\")\n",
    "])"
   ]
  },
  {
   "cell_type": "code",
   "execution_count": null,
   "metadata": {},
   "outputs": [],
   "source": [
    "model.summary()"
   ]
  },
  {
   "cell_type": "code",
   "execution_count": null,
   "metadata": {},
   "outputs": [],
   "source": [
    "model.compile(Adam(lr=0.0001),\n",
    "              loss=\"categorical_crossentropy\",\n",
    "              metrics=[\"accuracy\"])"
   ]
  },
  {
   "cell_type": "code",
   "execution_count": null,
   "metadata": {},
   "outputs": [],
   "source": [
    "STEP_SIZE_TRAIN = train_generator.n//train_generator.batch_size\n",
    "STEP_SIZE_VALID = valid_generator.n//valid_generator.batch_size\n",
    "history = model.fit_generator(generator=train_generator,\n",
    "                    steps_per_epoch=STEP_SIZE_TRAIN,\n",
    "                    validation_data=valid_generator,\n",
    "                    validation_steps=STEP_SIZE_VALID,\n",
    "                    epochs=10)"
   ]
  },
  {
   "cell_type": "code",
   "execution_count": null,
   "metadata": {},
   "outputs": [],
   "source": [
    "model.save(\"car_classification.h5\")"
   ]
  },
  {
   "cell_type": "code",
   "execution_count": null,
   "metadata": {},
   "outputs": [],
   "source": [
    "from tensorflow.keras.models import load_model\n",
    "model = load_model('car_classification.h5')"
   ]
  },
  {
   "cell_type": "code",
   "execution_count": null,
   "metadata": {},
   "outputs": [],
   "source": [
    "import cv2\n",
    "img = cv2.imread('/home/ashok/Downloads/cars_train/00019.jpg')\n",
    "image_x = 256\n",
    "image_y = 256\n",
    "img = cv2.resize(img, (image_x, image_y))\n",
    "img = np.array(img, dtype=np.float32)\n",
    "img = np.reshape(img, (-1, image_x, image_y, 3))"
   ]
  },
  {
   "cell_type": "code",
   "execution_count": null,
   "metadata": {},
   "outputs": [],
   "source": [
    "import matplotlib.pyplot as plt\n",
    "import matplotlib.image as mpimg\n",
    "image = mpimg.imread(\"/home/ashok/Downloads/cars_test/00005.jpg\")\n",
    "plt.imshow(cv2.cvtColor(image, cv2.COLOR_BGR2RGB))\n",
    "plt.show()"
   ]
  },
  {
   "cell_type": "code",
   "execution_count": null,
   "metadata": {},
   "outputs": [],
   "source": [
    "pred = model.predict(img)\n",
    "class_list[np.argmax(pred)]\n"
   ]
  },
  {
   "cell_type": "code",
   "execution_count": null,
   "metadata": {},
   "outputs": [],
   "source": []
  }
 ],
 "metadata": {
  "kernelspec": {
   "display_name": "Python 3",
   "language": "python",
   "name": "python3"
  },
  "language_info": {
   "codemirror_mode": {
    "name": "ipython",
    "version": 3
   },
   "file_extension": ".py",
   "mimetype": "text/x-python",
   "name": "python",
   "nbconvert_exporter": "python",
   "pygments_lexer": "ipython3",
   "version": "3.6.8"
  }
 },
 "nbformat": 4,
 "nbformat_minor": 2
}
